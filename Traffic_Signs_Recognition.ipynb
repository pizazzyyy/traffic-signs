{
 "cells": [
  {
   "cell_type": "markdown",
   "metadata": {},
   "source": [
    "# Self-Driving Car Engineer Nanodegree\n",
    "\n",
    "## Deep Learning\n",
    "\n",
    "## Project: Build a Traffic Sign Recognition Classifier\n",
    "\n",
    "In this notebook, a template is provided for you to implement your functionality in stages which is required to successfully complete this project. If additional code is required that cannot be included in the notebook, be sure that the Python code is successfully imported and included in your submission, if necessary. Sections that begin with **'Implementation'** in the header indicate where you should begin your implementation for your project. Note that some sections of implementation are optional, and will be marked with **'Optional'** in the header.\n",
    "\n",
    "In addition to implementing code, there will be questions that you must answer which relate to the project and your implementation. Each section where you will answer a question is preceded by a **'Question'** header. Carefully read each question and provide thorough answers in the following text boxes that begin with **'Answer:'**. Your project submission will be evaluated based on your answers to each of the questions and the implementation you provide.\n",
    "\n",
    ">**Note:** Code and Markdown cells can be executed using the **Shift + Enter** keyboard shortcut. In addition, Markdown cells can be edited by typically double-clicking the cell to enter edit mode."
   ]
  },
  {
   "cell_type": "markdown",
   "metadata": {},
   "source": [
    "---\n",
    "\n",
    "## Step 1: Dataset Exploration\n",
    "\n",
    "Visualize the German Traffic Signs Dataset. This is open ended, some suggestions include: plotting traffic signs images, plotting the count of each sign, etc. Be creative!\n",
    "\n",
    "\n",
    "The pickled data is a dictionary with 4 key/value pairs:\n",
    "\n",
    "- features -> the images pixel values, (width, height, channels)\n",
    "- labels -> the label of the traffic sign\n",
    "- sizes -> the original width and height of the image, (width, height)\n",
    "- coords -> coordinates of a bounding box around the sign in the image, (x1, y1, x2, y2). Based the original image (not the resized version)."
   ]
  },
  {
   "cell_type": "code",
   "execution_count": 1,
   "metadata": {
    "collapsed": false,
    "scrolled": true
   },
   "outputs": [
    {
     "name": "stdout",
     "output_type": "stream",
     "text": [
      "yy-desktop\n",
      "38\n"
     ]
    },
    {
     "data": {
      "image/png": "[encoded data removed]",
      "text/plain": [
       "<matplotlib.figure.Figure at 0x7f793526bef0>"
      ]
     },
     "metadata": {},
     "output_type": "display_data"
    }
   ],
   "source": [
    "# Load pickled data\n",
    "import pickle\n",
    "import matplotlib.pyplot as plt\n",
    "import matplotlib.image as mpimg\n",
    "import numpy as np\n",
    "import cv2\n",
    "import socket\n",
    "import random\n",
    "%matplotlib inline\n",
    "\n",
    "# TODO: fill this in based on where you saved the training and testing data\n",
    "computer_name = socket.gethostname()\n",
    "print(computer_name)\n",
    "if \"Air\" in computer_name:\n",
    "    training_file = \"/Users/Sheep/Library/git/traffic-signs/traffic-signs-data/train.p\"\n",
    "    testing_file = \"/Users/Sheep/Library/git/traffic-signs/traffic-signs-data/test.p\"\n",
    "elif \"T540p\" in computer_name:\n",
    "    training_file = \"/home/yy/git/traffic-signs/traffic-signs-data/train.p\"\n",
    "    testing_file = \"/home/yy/git/traffic-signs/traffic-signs-data/test.p\"\n",
    "elif \"desktop\" in computer_name:\n",
    "    training_file = \"/home/yy/git/traffic-signs/traffic-signs-data/train.p\"\n",
    "    testing_file = \"/home/yy/git/traffic-signs/traffic-signs-data/test.p\"\n",
    "\n",
    "with open(training_file, mode='rb') as f:\n",
    "    train = pickle.load(f)\n",
    "with open(testing_file, mode='rb') as f:\n",
    "    test = pickle.load(f)\n",
    "    \n",
    "X_train_full, y_train_full = train['features'], train['labels']\n",
    "X_test, y_test = test['features'], test['labels']\n",
    "\n",
    "index = random.randint(0, len(X_train_full))\n",
    "image = X_train_full[index].squeeze()\n",
    "\n",
    "plt.figure(figsize=(1,1))\n",
    "print(y_train_full[index])\n",
    "plt.imshow(image, interpolation='nearest')\n",
    "plt.show()"
   ]
  },
  {
   "cell_type": "code",
   "execution_count": 2,
   "metadata": {
    "collapsed": false
   },
   "outputs": [
    {
     "name": "stdout",
     "output_type": "stream",
     "text": [
      "Number of training examples = 39209\n",
      "Number of testing examples = 12630\n",
      "Image data shape = (32, 32, 3)\n",
      "Number of classes = 43\n"
     ]
    }
   ],
   "source": [
    "### To start off let's do a basic data summary.\n",
    "\n",
    "# TODO: number of training examples\n",
    "n_train = len(X_train_full)\n",
    "\n",
    "# TODO: number of testing examples\n",
    "n_test = len(X_test)\n",
    "\n",
    "# TODO: what's the shape of an image?\n",
    "image_shape = X_train_full[0].shape\n",
    "\n",
    "# TODO: how many classes are in the dataset\n",
    "n_classes = max(y_train_full) + 1\n",
    "\n",
    "print(\"Number of training examples =\", n_train)\n",
    "print(\"Number of testing examples =\", n_test)\n",
    "print(\"Image data shape =\", image_shape)\n",
    "print(\"Number of classes =\", n_classes)"
   ]
  },
  {
   "cell_type": "code",
   "execution_count": 3,
   "metadata": {
    "collapsed": false
   },
   "outputs": [
    {
     "data": {
      "image/png": "[encoded data removed]",
      "text/plain": [
       "<matplotlib.figure.Figure at 0x7f797867b6a0>"
      ]
     },
     "metadata": {},
     "output_type": "display_data"
    }
   ],
   "source": [
    "### Data exploration visualization goes here.\n",
    "### Feel free to use as many code cells as needed.\n",
    "\n",
    "# Plot the distribution of the labels\n",
    "plt.hist(y_train_full, bins = n_classes);\n",
    "plt.show()"
   ]
  },
  {
   "cell_type": "markdown",
   "metadata": {},
   "source": [
    "----\n",
    "\n",
    "## Step 2: Design and Test a Model Architecture\n",
    "\n",
    "Design and implement a deep learning model that learns to recognize traffic signs. Train and test your model on the [German Traffic Sign Dataset](http://benchmark.ini.rub.de/?section=gtsrb&subsection=dataset).\n",
    "\n",
    "There are various aspects to consider when thinking about this problem:\n",
    "\n",
    "- Your model can be derived from a deep feedforward net or a deep convolutional network.\n",
    "- Play around preprocessing techniques (normalization, rgb to grayscale, etc)\n",
    "- Number of examples per label (some have more than others).\n",
    "- Generate fake data.\n",
    "\n",
    "Here is an example of a [published baseline model on this problem](http://yann.lecun.com/exdb/publis/pdf/sermanet-ijcnn-11.pdf). It's not required to be familiar with the approach used in the paper but, it's good practice to try to read papers like these."
   ]
  },
  {
   "cell_type": "markdown",
   "metadata": {},
   "source": [
    "### Implementation\n",
    "\n",
    "Use the code cell (or multiple code cells, if necessary) to implement the first step of your project. Once you have completed your implementation and are satisfied with the results, be sure to thoroughly answer the questions that follow."
   ]
  },
  {
   "cell_type": "code",
   "execution_count": 4,
   "metadata": {
    "collapsed": false
   },
   "outputs": [
    {
     "name": "stdout",
     "output_type": "stream",
     "text": [
      "Number of final training examples = 33327\n",
      "Number of validation examples = 5882\n"
     ]
    }
   ],
   "source": [
    "### Preprocess the data here.\n",
    "### Feel free to use as many code cells as needed.\n",
    "\n",
    "# Normalize the data\n",
    "def normalize_grayscale(image_data):\n",
    "    \"\"\"\n",
    "    Normalize the image data with Min-Max scaling to a range of [0.1, 0.9]\n",
    "    :param image_data: The image data to be normalized\n",
    "    :return: Normalized image data\n",
    "    \"\"\"\n",
    "    a = -0.5\n",
    "    b = 0.5\n",
    "    grayscale_min = 0\n",
    "    grayscale_max = 255\n",
    "    return a + ( ( (image_data - grayscale_min)*(b - a) )/( grayscale_max - grayscale_min ) )\n",
    "\n",
    "X_normalized = normalize_grayscale(X_train_full)\n",
    "\n",
    "# Create seperate validation data set from full training data set\n",
    "from sklearn.model_selection import train_test_split\n",
    "X_train, X_validation, y_train, y_validation = train_test_split(X_normalized, y_train_full, test_size=0.15, random_state=42)\n",
    "\n",
    "# Shuffle the train and validation data set\n",
    "from sklearn.utils import shuffle\n",
    "X_train, y_train = shuffle(X_train, y_train)\n",
    "X_validation, y_validation = shuffle(X_validation, y_validation)\n",
    "\n",
    "# Summary on the new train and validation data set\n",
    "n_train = len(X_train)\n",
    "n_validation = len(X_validation)\n",
    "print(\"Number of final training examples =\", n_train)\n",
    "print(\"Number of validation examples =\", n_validation)"
   ]
  },
  {
   "cell_type": "markdown",
   "metadata": {},
   "source": [
    "### Question 1 \n",
    "\n",
    "_Describe the techniques used to preprocess the data._"
   ]
  },
  {
   "cell_type": "markdown",
   "metadata": {},
   "source": [
    "**Answer:**\n",
    "1: Shuffle the training data and validation data.\n",
    "2: Another very important method is to normalize the data so that the model will be much easier to train. With original picture data each pixel will be 0 to 255, this is much harder for models to converge.\n"
   ]
  },
  {
   "cell_type": "code",
   "execution_count": 5,
   "metadata": {
    "collapsed": true
   },
   "outputs": [],
   "source": [
    "### Generate data additional (if you want to!)\n",
    "### and split the data into training/validation/testing sets here.\n",
    "### Feel free to use as many code cells as needed.\n",
    "\n",
    "# Train/validation separation was done in previous block"
   ]
  },
  {
   "cell_type": "markdown",
   "metadata": {},
   "source": [
    "### Question 2\n",
    "\n",
    "_Describe how you set up the training, validation and testing data for your model. If you generated additional data, why?_"
   ]
  },
  {
   "cell_type": "markdown",
   "metadata": {},
   "source": [
    "**Answer:**\n",
    "1: Split the training data using sklearn train_test_split function to create validation data.\n"
   ]
  },
  {
   "cell_type": "code",
   "execution_count": 6,
   "metadata": {
    "collapsed": true
   },
   "outputs": [],
   "source": [
    "### Define your architecture here.\n",
    "### Feel free to use as many code cells as needed."
   ]
  },
  {
   "cell_type": "code",
   "execution_count": 7,
   "metadata": {
    "collapsed": false
   },
   "outputs": [],
   "source": [
    "# Set up Tensorflow\n",
    "import tensorflow as tf\n",
    "\n",
    "EPOCHS = 20\n",
    "BATCH_SIZE = 128"
   ]
  },
  {
   "cell_type": "code",
   "execution_count": 8,
   "metadata": {
    "collapsed": false
   },
   "outputs": [],
   "source": [
    "# LeNet function\n",
    "from tensorflow.contrib.layers import flatten\n",
    "keep_prob = tf.placeholder(tf.float32) # probability to keep units\n",
    "\n",
    "def conv2d(x, W, b, strides=1):\n",
    "    # Conv2D wrapper, with bias and relu activation\n",
    "    x = tf.nn.conv2d(x, W, strides=[1, strides, strides, 1], padding='VALID')\n",
    "    x = tf.nn.bias_add(x, b)\n",
    "    return tf.nn.relu(x)\n",
    "\n",
    "\n",
    "def maxpool2d(x, k=2):\n",
    "    # MaxPool2D wrapper\n",
    "    return tf.nn.max_pool(x, ksize=[1, k, k, 1], strides=[1, k, k, 1],\n",
    "                          padding='VALID')\n",
    "\n",
    "def LeNet(x):\n",
    "    # Hyperparameters\n",
    "    mu = 0\n",
    "    sigma = 0.1\n",
    "    \n",
    "    # Store layers weight & bias\n",
    "    weights = {\n",
    "        # 5x5 conv, 1 input, 6 outputs\n",
    "        'wc1': tf.Variable(tf.random_normal([5, 5, 3, 6], mean = mu, stddev = sigma)),\n",
    "        # 5x5 conv, 6 inputs, 16 outputs\n",
    "        'wc2': tf.Variable(tf.random_normal([5, 5, 6, 16], mean = mu, stddev = sigma)),\n",
    "        # fully connected, 400 inputs, 120 outputs\n",
    "        'wd3': tf.Variable(tf.random_normal([400, 120], mean = mu, stddev = sigma)),\n",
    "        # 120 inputs, 84 outputs (class prediction)\n",
    "        'wd4': tf.Variable(tf.random_normal([120, 84], mean = mu, stddev = sigma)),\n",
    "        # 84 inputs, 43 outputs (class prediction)\n",
    "        'out': tf.Variable(tf.random_normal([84, 43], mean = mu, stddev = sigma))\n",
    "    }\n",
    "\n",
    "    biases = {\n",
    "        'bc1': tf.Variable(tf.zeros([6])),\n",
    "        'bc2': tf.Variable(tf.zeros([16])),\n",
    "        'bd3': tf.Variable(tf.zeros([120])),\n",
    "        'bd4': tf.Variable(tf.zeros([84])),\n",
    "        'out': tf.Variable(tf.zeros([43]))\n",
    "    }\n",
    "\n",
    "    # TODO: Layer 1: Convolutional. Input = 32x32x3. Output = 28x28x6.\n",
    "    # TODO: Activation.\n",
    "    conv1 = conv2d(x, weights['wc1'], biases['bc1'])\n",
    "\n",
    "    # TODO: Pooling. Input = 28x28x6. Output = 14x14x6.\n",
    "    conv1 = maxpool2d(conv1, k=2)\n",
    "    \n",
    "    # Add a dropout layer here\n",
    "    dropout_layer = tf.nn.dropout(conv1, keep_prob)\n",
    "    \n",
    "    # TODO: Layer 2: Convolutional. Output = 10x10x16.\n",
    "    # TODO: Activation.\n",
    "    conv2 = conv2d(conv1, weights['wc2'], biases['bc2'])\n",
    "\n",
    "    # TODO: Pooling. Input = 10x10x16. Output = 5x5x16.\n",
    "    conv2 = maxpool2d(conv2, k=2)\n",
    "    \n",
    "    # TODO: Flatten. Input = 5x5x16. Output = 400.\n",
    "    fc = flatten(conv2)\n",
    "    \n",
    "    # TODO: Layer 3: Fully Connected. Input = 400. Output = 120.\n",
    "    fc3 = tf.add(tf.matmul(fc, weights['wd3']), biases['bd3'])\n",
    "    \n",
    "    # TODO: Activation.\n",
    "    fc3 = tf.nn.relu(fc3)\n",
    "\n",
    "    # TODO: Layer 4: Fully Connected. Input = 120. Output = 84.\n",
    "    fc4 = tf.add(tf.matmul(fc3, weights['wd4']), biases['bd4'])\n",
    "    \n",
    "    # TODO: Activation.\n",
    "    fc4 = tf.nn.relu(fc4)\n",
    "    \n",
    "    # TODO: Layer 5: Fully Connected. Input = 84. Output = 43.\n",
    "    logits = tf.add(tf.matmul(fc4, weights['out']), biases['out'])\n",
    "\n",
    "    return logits"
   ]
  },
  {
   "cell_type": "code",
   "execution_count": 9,
   "metadata": {
    "collapsed": true
   },
   "outputs": [],
   "source": [
    "# Features and Labels\n",
    "x = tf.placeholder(tf.float32, (None, 32, 32, 3))\n",
    "y = tf.placeholder(tf.int32, (None))\n",
    "one_hot_y = tf.one_hot(y, 43)"
   ]
  },
  {
   "cell_type": "code",
   "execution_count": 10,
   "metadata": {
    "collapsed": true
   },
   "outputs": [],
   "source": [
    "# Training pipeline\n",
    "rate = 0.0005\n",
    "\n",
    "logits = LeNet(x)\n",
    "cross_entropy = tf.nn.softmax_cross_entropy_with_logits(logits, one_hot_y)\n",
    "loss_operation = tf.reduce_mean(cross_entropy)\n",
    "optimizer = tf.train.AdamOptimizer(learning_rate = rate)\n",
    "training_operation = optimizer.minimize(loss_operation)"
   ]
  },
  {
   "cell_type": "code",
   "execution_count": 11,
   "metadata": {
    "collapsed": true
   },
   "outputs": [],
   "source": [
    "# Model evaluation\n",
    "correct_prediction = tf.equal(tf.argmax(logits, 1), tf.argmax(one_hot_y, 1))\n",
    "accuracy_operation = tf.reduce_mean(tf.cast(correct_prediction, tf.float32))\n",
    "saver = tf.train.Saver()\n",
    "\n",
    "def evaluate(X_data, y_data):\n",
    "    num_examples = len(X_data)\n",
    "    total_accuracy = 0\n",
    "    sess = tf.get_default_session()\n",
    "    for offset in range(0, num_examples, BATCH_SIZE):\n",
    "        batch_x, batch_y = X_data[offset:offset+BATCH_SIZE], y_data[offset:offset+BATCH_SIZE]\n",
    "        accuracy = sess.run(accuracy_operation, feed_dict={x: batch_x, y: batch_y, keep_prob: 1.0})\n",
    "        total_accuracy += (accuracy * len(batch_x))\n",
    "    return total_accuracy / num_examples"
   ]
  },
  {
   "cell_type": "markdown",
   "metadata": {},
   "source": [
    "### Question 3\n",
    "\n",
    "_What does your final architecture look like? (Type of model, layers, sizes, connectivity, etc.)  For reference on how to build a deep neural network using TensorFlow, see [Deep Neural Network in TensorFlow\n",
    "](https://classroom.udacity.com/nanodegrees/nd013/parts/fbf77062-5703-404e-b60c-95b78b2f3f9e/modules/6df7ae49-c61c-4bb2-a23e-6527e69209ec/lessons/b516a270-8600-4f93-a0a3-20dfeabe5da6/concepts/83a3a2a2-a9bd-4b7b-95b0-eb924ab14432) from the classroom._\n"
   ]
  },
  {
   "cell_type": "markdown",
   "metadata": {},
   "source": [
    "**Answer:**\n",
    "1: The base model is LeNet. It has two convolutional layers and three fully connected layters. The layer details are:\n",
    "5x5 conv, 1 input, 6 outputs\n",
    "5x5 conv, 6 inputs, 16 outputs\n",
    "fully connected, 400 inputs, 120 outputs\n",
    "120 inputs, 84 outputs\n",
    "84 inputs, 43 outputs (class prediction)\n",
    "I used RELU as the activation function.\n",
    "2: Add a dropout layer between the two convolutional layers to prevent overfitting."
   ]
  },
  {
   "cell_type": "code",
   "execution_count": 12,
   "metadata": {
    "collapsed": false
   },
   "outputs": [
    {
     "name": "stdout",
     "output_type": "stream",
     "text": [
      "Training...\n",
      "\n",
      "EPOCH 1 ...\n",
      "Validation Accuracy = 0.555\n",
      "\n",
      "EPOCH 2 ...\n",
      "Validation Accuracy = 0.797\n",
      "\n",
      "EPOCH 3 ...\n",
      "Validation Accuracy = 0.875\n",
      "\n",
      "EPOCH 4 ...\n",
      "Validation Accuracy = 0.909\n",
      "\n",
      "EPOCH 5 ...\n",
      "Validation Accuracy = 0.933\n",
      "\n",
      "EPOCH 6 ...\n",
      "Validation Accuracy = 0.927\n",
      "\n",
      "EPOCH 7 ...\n",
      "Validation Accuracy = 0.953\n",
      "\n",
      "EPOCH 8 ...\n",
      "Validation Accuracy = 0.954\n",
      "\n",
      "EPOCH 9 ...\n",
      "Validation Accuracy = 0.964\n",
      "\n",
      "EPOCH 10 ...\n",
      "Validation Accuracy = 0.968\n",
      "\n",
      "EPOCH 11 ...\n",
      "Validation Accuracy = 0.968\n",
      "\n",
      "EPOCH 12 ...\n",
      "Validation Accuracy = 0.972\n",
      "\n",
      "EPOCH 13 ...\n",
      "Validation Accuracy = 0.967\n",
      "\n",
      "EPOCH 14 ...\n",
      "Validation Accuracy = 0.974\n",
      "\n",
      "EPOCH 15 ...\n",
      "Validation Accuracy = 0.973\n",
      "\n",
      "EPOCH 16 ...\n",
      "Validation Accuracy = 0.979\n",
      "\n",
      "EPOCH 17 ...\n",
      "Validation Accuracy = 0.974\n",
      "\n",
      "EPOCH 18 ...\n",
      "Validation Accuracy = 0.981\n",
      "\n",
      "EPOCH 19 ...\n",
      "Validation Accuracy = 0.973\n",
      "\n",
      "EPOCH 20 ...\n",
      "Validation Accuracy = 0.974\n",
      "\n",
      "Model saved\n"
     ]
    }
   ],
   "source": [
    "### Train your model here.\n",
    "### Feel free to use as many code cells as needed.\n",
    "\n",
    "with tf.Session() as sess:\n",
    "    sess.run(tf.global_variables_initializer())\n",
    "    num_examples = len(X_train)\n",
    "    \n",
    "    print(\"Training...\")\n",
    "    print()\n",
    "    for i in range(EPOCHS):\n",
    "        X_train, y_train = shuffle(X_train, y_train)\n",
    "        for offset in range(0, num_examples, BATCH_SIZE):\n",
    "            end = offset + BATCH_SIZE\n",
    "            batch_x, batch_y = X_train[offset:end], y_train[offset:end]\n",
    "            sess.run(training_operation, feed_dict={x: batch_x, y: batch_y, keep_prob: 0.5})\n",
    "            \n",
    "        validation_accuracy = evaluate(X_validation, y_validation)\n",
    "        print(\"EPOCH {} ...\".format(i+1))\n",
    "        print(\"Validation Accuracy = {:.3f}\".format(validation_accuracy))\n",
    "        print()\n",
    "        \n",
    "    saver.save(sess, 'lenet')\n",
    "    print(\"Model saved\")"
   ]
  },
  {
   "cell_type": "markdown",
   "metadata": {},
   "source": [
    "Warning!\n",
    "Don't run below testing code until the model is ready!"
   ]
  },
  {
   "cell_type": "code",
   "execution_count": 13,
   "metadata": {
    "collapsed": false
   },
   "outputs": [
    {
     "name": "stdout",
     "output_type": "stream",
     "text": [
      "Test Accuracy = 0.886\n"
     ]
    }
   ],
   "source": [
    "# Evaluate the model with test data set\n",
    "X_test_normalized = normalize_grayscale(X_test)\n",
    "\n",
    "with tf.Session() as sess:\n",
    "    saver.restore(sess, tf.train.latest_checkpoint('.'))\n",
    "\n",
    "    test_accuracy = evaluate(X_test_normalized, y_test)\n",
    "    print(\"Test Accuracy = {:.3f}\".format(test_accuracy))"
   ]
  },
  {
   "cell_type": "markdown",
   "metadata": {},
   "source": [
    "### Question 4\n",
    "\n",
    "_How did you train your model? (Type of optimizer, batch size, epochs, hyperparameters, etc.)_\n"
   ]
  },
  {
   "cell_type": "markdown",
   "metadata": {},
   "source": [
    "**Answer:**\n",
    "1: We used AdamOptimizer, batch size is 128, epochs is 20. Hyperparameters are mainly the mean and stdev of the truncated normal distribution of the weights."
   ]
  },
  {
   "cell_type": "markdown",
   "metadata": {},
   "source": [
    "### Question 5\n",
    "\n",
    "\n",
    "_What approach did you take in coming up with a solution to this problem?_"
   ]
  },
  {
   "cell_type": "markdown",
   "metadata": {},
   "source": [
    "**Answer:**\n",
    "1: I started from the LeNet lab and change the inter-layer parameters according to the traffic sign data.\n",
    "2: I tried to change the epoches together with the learning rate, it seems with smaller learning rate, the final validation accuracy can be higher, but it also needs more epoches. At last I chose 0.005 learning rate and 20 epoches.\n",
    "3: To prevent overfitting with the low learning rate, I tried dropout methed and it indeed gave better results."
   ]
  },
  {
   "cell_type": "markdown",
   "metadata": {},
   "source": [
    "---\n",
    "\n",
    "## Step 3: Test a Model on New Images\n",
    "\n",
    "Take several pictures of traffic signs that you find on the web or around you (at least five), and run them through your classifier on your computer to produce example results. The classifier might not recognize some local signs but it could prove interesting nonetheless.\n",
    "\n",
    "You may find `signnames.csv` useful as it contains mappings from the class id (integer) to the actual sign name."
   ]
  },
  {
   "cell_type": "markdown",
   "metadata": {},
   "source": [
    "### Implementation\n",
    "\n",
    "Use the code cell (or multiple code cells, if necessary) to implement the first step of your project. Once you have completed your implementation and are satisfied with the results, be sure to thoroughly answer the questions that follow."
   ]
  },
  {
   "cell_type": "code",
   "execution_count": 14,
   "metadata": {
    "collapsed": false
   },
   "outputs": [
    {
     "name": "stdout",
     "output_type": "stream",
     "text": [
      "Image data shape = (32, 32, 3)\n",
      "Image data shape = (32, 32, 3)\n",
      "Image data shape = (32, 32, 3)\n",
      "Image data shape = (32, 32, 3)\n",
      "Image data shape = (32, 32, 3)\n"
     ]
    },
    {
     "data": {
      "image/png": "[encoded data removed]",
      "text/plain": [
       "<matplotlib.figure.Figure at 0x7f78b734de48>"
      ]
     },
     "metadata": {},
     "output_type": "display_data"
    },
    {
     "data": {
      "image/png": "[encoded data removed]",
      "text/plain": [
       "<matplotlib.figure.Figure at 0x7f78aefa6f60>"
      ]
     },
     "metadata": {},
     "output_type": "display_data"
    },
    {
     "data": {
      "image/png": "[encoded data removed]",
      "text/plain": [
       "<matplotlib.figure.Figure at 0x7f78aed035c0>"
      ]
     },
     "metadata": {},
     "output_type": "display_data"
    },
    {
     "data": {
      "image/png": "[encoded data removed]",
      "text/plain": [
       "<matplotlib.figure.Figure at 0x7f7970aa1a20>"
      ]
     },
     "metadata": {},
     "output_type": "display_data"
    },
    {
     "data": {
      "image/png": "[encoded data removed]",
      "text/plain": [
       "<matplotlib.figure.Figure at 0x7f7970c78cf8>"
      ]
     },
     "metadata": {},
     "output_type": "display_data"
    }
   ],
   "source": [
    "### Load the images and plot them here.\n",
    "### Feel free to use as many code cells as needed.\n",
    "\n",
    "import os\n",
    "from PIL import Image\n",
    "\n",
    "# maxsize = (32, 32)\n",
    "# os.listdir(\"test_images/\")\n",
    "# images = os.listdir(\"test_images/\")\n",
    "# for image_name in images:\n",
    "#     image = Image.open('test_images/' + image_name)\n",
    "#     image.thumbnail(maxsize, Image.ANTIALIAS)\n",
    "#     image.save('test_images/' + 'thumb_' + image_name)\n",
    "    \n",
    "os.listdir(\"test_images/\")\n",
    "images = os.listdir(\"test_images/\")\n",
    "for image_name in images:\n",
    "    image = mpimg.imread('test_images/' + image_name)\n",
    "    plt.figure(figsize=(1,1))\n",
    "    plt.imshow(image)\n",
    "    image_shape = image.shape\n",
    "    print(\"Image data shape =\", image_shape)\n"
   ]
  },
  {
   "cell_type": "markdown",
   "metadata": {},
   "source": [
    "### Question 6\n",
    "\n",
    "_Choose five candidate images of traffic signs and provide them in the report. Are there any particular qualities of the image(s) that might make classification difficult? It would be helpful to plot the images in the notebook._\n",
    "\n"
   ]
  },
  {
   "cell_type": "markdown",
   "metadata": {},
   "source": [
    "**Answer:**\n",
    "1: The five images I chose are all non-standard traffic signs, it's interesting to see how the model interpret the non-standard traffic signs."
   ]
  },
  {
   "cell_type": "code",
   "execution_count": 15,
   "metadata": {
    "collapsed": false
   },
   "outputs": [
    {
     "name": "stdout",
     "output_type": "stream",
     "text": [
      "thumb_blue_speed_30.jpg\n",
      "[18]\n",
      "thumb_speed_40.jpg\n",
      "[2]\n",
      "thumb_special_stop.png\n",
      "[25]\n",
      "thumb_children_crossing.jpg\n",
      "[38]\n",
      "thumb_animal.jpg\n",
      "[11]\n"
     ]
    }
   ],
   "source": [
    "### Run the predictions here.\n",
    "### Feel free to use as many code cells as needed.\n",
    "\n",
    "for image_name in images:\n",
    "    image = mpimg.imread('test_images/' + image_name)\n",
    "    # image = mpimg.imread('test_images/' + 'thumb_animal.jpg')\n",
    "    image_normalized = normalize_grayscale(image)\n",
    "    reshaped = np.expand_dims(image_normalized, axis=0)\n",
    "    # reshaped = tf.reshape(image, [-1, 32, 32, 3])\n",
    "    # tf.constant(image, tf.float32, (3, 32, 32, 3))\n",
    "    soft_max = tf.nn.softmax(logits)\n",
    "    labels_predicted = tf.argmax(soft_max, 1)\n",
    "    # top3_pred = sess.run(tf.nn.top_k(tf.constant(soft_max), k=3))\n",
    "\n",
    "    with tf.Session() as sess:\n",
    "        loader = tf.train.import_meta_graph('lenet.meta')\n",
    "        loader.restore(sess, tf.train.latest_checkpoint('./'))\n",
    "        \n",
    "        print(image_name)\n",
    "        print(sess.run(labels_predicted, feed_dict={x: reshaped}))\n",
    "        # print(sess.run(top3_pred, feed_dict={x: reshaped}))\n",
    "        # print(sess.run(tf.nn.top_k(tf.constant(soft_max), k=3)))\n",
    "    "
   ]
  },
  {
   "cell_type": "markdown",
   "metadata": {},
   "source": [
    "### Question 7\n",
    "\n",
    "_Is your model able to perform equally well on captured pictures or a live camera stream when compared to testing on the dataset?_\n"
   ]
  },
  {
   "cell_type": "markdown",
   "metadata": {},
   "source": [
    "**Answer:**\n",
    "1: With non-standard signs, the model actually performed poorly, none of the 5 predictions are correct."
   ]
  },
  {
   "cell_type": "code",
   "execution_count": 16,
   "metadata": {
    "collapsed": false
   },
   "outputs": [
    {
     "name": "stdout",
     "output_type": "stream",
     "text": [
      "thumb_blue_speed_30.jpg\n",
      "[[ 0.  0.  0.  0.  0.  0.  0.  0.  0.  0.  0.  0.  0.  0.  0.  0.  0.  0.\n",
      "   1.  0.  0.  0.  0.  0.  0.  0.  0.  0.  0.  0.  0.  0.  0.  0.  0.  0.\n",
      "   0.  0.  0.  0.  0.  0.  0.]]\n",
      "thumb_speed_40.jpg\n",
      "[[ 0.  0.  1.  0.  0.  0.  0.  0.  0.  0.  0.  0.  0.  0.  0.  0.  0.  0.\n",
      "   0.  0.  0.  0.  0.  0.  0.  0.  0.  0.  0.  0.  0.  0.  0.  0.  0.  0.\n",
      "   0.  0.  0.  0.  0.  0.  0.]]\n",
      "thumb_special_stop.png\n",
      "[[  3.21617563e-07   1.17898849e-03   1.55112497e-03   2.19022596e-08\n",
      "    2.71651779e-18   2.59504614e-12   1.11228064e-06   1.84398061e-25\n",
      "    1.11800986e-30   2.19043448e-16   1.34710796e-21   4.49095713e-03\n",
      "    7.82751478e-03   3.83374952e-02   1.38094019e-18   2.49192037e-20\n",
      "    3.97496071e-27   9.46169879e-12   3.09335547e-07   3.70552006e-10\n",
      "    4.23237934e-09   2.88974917e-07   1.76010287e-17   1.45565812e-03\n",
      "    5.77902171e-09   1.30978584e-01   2.50562380e-08   7.37486242e-17\n",
      "    2.21261950e-11   1.43221447e-14   1.57775765e-10   4.32885123e-08\n",
      "    6.36504467e-08   2.82896399e-05   2.32728155e-07   2.14049709e-03\n",
      "    5.51403173e-06   3.94643605e-19   6.87583566e-01   1.17133333e-23\n",
      "    1.24392480e-01   2.69748853e-05   3.98002855e-12]]\n",
      "thumb_children_crossing.jpg\n",
      "[[ 0.  0.  0.  0.  0.  0.  0.  0.  0.  0.  0.  0.  0.  0.  0.  0.  0.  0.\n",
      "   0.  0.  0.  0.  0.  0.  0.  0.  0.  0.  0.  0.  0.  0.  0.  0.  0.  0.\n",
      "   0.  0.  1.  0.  0.  0.  0.]]\n",
      "thumb_animal.jpg\n",
      "[[ 0.  0.  0.  0.  0.  0.  0.  0.  0.  0.  0.  1.  0.  0.  0.  0.  0.  0.\n",
      "   0.  0.  0.  0.  0.  0.  0.  0.  0.  0.  0.  0.  0.  0.  0.  0.  0.  0.\n",
      "   0.  0.  0.  0.  0.  0.  0.]]\n"
     ]
    }
   ],
   "source": [
    "### Visualize the softmax probabilities here.\n",
    "### Feel free to use as many code cells as needed.\n",
    "\n",
    "for image_name in images:\n",
    "    image = mpimg.imread('test_images/' + image_name)\n",
    "    # image = mpimg.imread('test_images/' + 'thumb_animal.jpg')\n",
    "    reshaped = np.expand_dims(image, axis=0)\n",
    "    # reshaped = tf.reshape(image, [-1, 32, 32, 3])\n",
    "    # tf.constant(image, tf.float32, (3, 32, 32, 3))\n",
    "    soft_max = tf.nn.softmax(logits)\n",
    "    labels_predicted = tf.argmax(soft_max, 1)\n",
    "    # top3_pred = sess.run(tf.nn.top_k(tf.constant(soft_max), k=3))\n",
    "\n",
    "    with tf.Session() as sess:\n",
    "        loader = tf.train.import_meta_graph('lenet.meta')\n",
    "        loader.restore(sess, tf.train.latest_checkpoint('./'))\n",
    "        \n",
    "        print(image_name)\n",
    "        print(sess.run(soft_max, feed_dict={x: reshaped}))\n",
    "        # print(sess.run(top3_pred, feed_dict={x: reshaped}))\n",
    "        # print(sess.run(tf.nn.top_k(tf.constant(soft_max), k=3)))\n"
   ]
  },
  {
   "cell_type": "markdown",
   "metadata": {},
   "source": [
    "### Question 8\n",
    "\n",
    "*Use the model's softmax probabilities to visualize the **certainty** of its predictions, [`tf.nn.top_k`](https://www.tensorflow.org/versions/r0.11/api_docs/python/nn.html#top_k) could prove helpful here. Which predictions is the model certain of? Uncertain? If the model was incorrect in its initial prediction, does the correct prediction appear in the top k? (k should be 5 at most)*\n"
   ]
  },
  {
   "cell_type": "markdown",
   "metadata": {},
   "source": [
    "**Answer:**\n",
    "1: The model results show certainty for 4 out of the 5 pictures. The possibility are all above 97%, 3 of them are actually very near 100%.\n",
    "2: For special STOP sign, the model show uncertainty."
   ]
  },
  {
   "cell_type": "markdown",
   "metadata": {},
   "source": [
    "### Question 9\n",
    "_If necessary, provide documentation for how an interface was built for your model to load and classify newly-acquired images._\n"
   ]
  },
  {
   "cell_type": "markdown",
   "metadata": {},
   "source": [
    "**Answer:**\n",
    "1: I downloaded five pictures from online and use Image from PIL to convert them to 32x32 format that the model will accept.\n",
    "2: Then I run the five pictures through the model one by one."
   ]
  },
  {
   "cell_type": "markdown",
   "metadata": {},
   "source": [
    "> **Note**: Once you have completed all of the code implementations and successfully answered each question above, you may finalize your work by exporting the iPython Notebook as an HTML document. You can do this by using the menu above and navigating to  \\n\",\n",
    "    \"**File -> Download as -> HTML (.html)**. Include the finished document along with this notebook as your submission."
   ]
  }
 ],
 "metadata": {
  "anaconda-cloud": {},
  "kernelspec": {
   "display_name": "Python [conda env:SDC]",
   "language": "python",
   "name": "conda-env-SDC-py"
  },
  "language_info": {
   "codemirror_mode": {
    "name": "ipython",
    "version": 3
   },
   "file_extension": ".py",
   "mimetype": "text/x-python",
   "name": "python",
   "nbconvert_exporter": "python",
   "pygments_lexer": "ipython3",
   "version": "3.5.2"
  },
  "widgets": {
   "state": {},
   "version": "1.1.2"
  }
 },
 "nbformat": 4,
 "nbformat_minor": 1
}
